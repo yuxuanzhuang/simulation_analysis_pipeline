{
 "cells": [
  {
   "cell_type": "markdown",
   "metadata": {},
   "source": [
    "# Pre-fixing the trajectories"
   ]
  },
  {
   "cell_type": "code",
   "execution_count": 5,
   "metadata": {},
   "outputs": [],
   "source": [
    "import itertools\n",
    "import os\n",
    "import glob"
   ]
  },
  {
   "cell_type": "code",
   "execution_count": null,
   "metadata": {},
   "outputs": [],
   "source": [
    "import gromacs\n",
    "from gromacs.tools import Trjconv"
   ]
  },
  {
   "cell_type": "markdown",
   "metadata": {},
   "source": [
    "- `traj_notes` are a list of names for each system e.g. 4HFI_pH46_ethanol\n",
    "- `default_load_location` is the root directory of the systems\n",
    "- `default_load_location` is where to save these \"fixed\" trajectories.\n",
    "    - The idea behind is seperating the \"fixed\" trajectories to another location\n",
    "- `default_skip` is how many frames to skip from the raw traj\n",
    "- `default_rep` is the number of replicates for a system."
   ]
  },
  {
   "cell_type": "markdown",
   "metadata": {},
   "source": [
    "- TRAJ_NOTE format:\n",
    "\n",
    "A.B_C_...Z\n",
    "\n",
    "- A: strucuture name or PDB.\n",
    "- B: mutation\n",
    "- C: main ligand\n",
    "- Z: interesting variables\n",
    "\n",
    "e.g. \n",
    "- GABA_WT_PBT_POPC\n",
    "- 4HFI_F238L_ethanol_pH46"
   ]
  },
  {
   "cell_type": "code",
   "execution_count": 2,
   "metadata": {},
   "outputs": [],
   "source": [
    "traj_notes = ['URRO_pH3_dens_pH46_amber_largerbox', 'URRO_pH3_dens_pH70_amber_largerbox','URRO_pH5_dens_pH46_amber_largerbox','URRO_pH5_dens_pH70_amber_largerbox','URRO_pH7_dens_pH46_amber_largerbox','URRO_pH7_dens_pH70_amber_largerbox','4NPQ_pH70_amber_largerbox']\n",
    "default_load_location = '/home/scottzhuang/eriklab/'\n",
    "default_save_location = '/home/scottzhuang/pdc/'\n",
    "default_skip = 25\n",
    "default_rep = 4"
   ]
  },
  {
   "cell_type": "code",
   "execution_count": 9,
   "metadata": {},
   "outputs": [],
   "source": [
    "traj_note_dic = {'traj_note': traj_notes, \n",
    "                 'load_location': [\"\".join(i) for i in itertools.product([default_load_location], traj_notes,['/production/'])],\n",
    "                 'save_location':[default_save_location] * len(traj_notes), \n",
    "                 'skip':[default_skip] * len(traj_notes),\n",
    "                 'rep': [4] * len(traj_notes)}"
   ]
  },
  {
   "cell_type": "code",
   "execution_count": 10,
   "metadata": {},
   "outputs": [
    {
     "data": {
      "text/plain": [
       "{'load_location': ['/home/scottzhuang/eriklab/URRO_pH3_dens_pH46_amber_largerbox/production/',\n",
       "  '/home/scottzhuang/eriklab/URRO_pH3_dens_pH70_amber_largerbox/production/',\n",
       "  '/home/scottzhuang/eriklab/URRO_pH5_dens_pH46_amber_largerbox/production/',\n",
       "  '/home/scottzhuang/eriklab/URRO_pH5_dens_pH70_amber_largerbox/production/',\n",
       "  '/home/scottzhuang/eriklab/URRO_pH7_dens_pH46_amber_largerbox/production/',\n",
       "  '/home/scottzhuang/eriklab/URRO_pH7_dens_pH70_amber_largerbox/production/',\n",
       "  '/home/scottzhuang/eriklab/4NPQ_pH70_amber_largerbox/production/'],\n",
       " 'rep': [4, 4, 4, 4, 4, 4, 4],\n",
       " 'save_location': ['/home/scottzhuang/pdc/',\n",
       "  '/home/scottzhuang/pdc/',\n",
       "  '/home/scottzhuang/pdc/',\n",
       "  '/home/scottzhuang/pdc/',\n",
       "  '/home/scottzhuang/pdc/',\n",
       "  '/home/scottzhuang/pdc/',\n",
       "  '/home/scottzhuang/pdc/'],\n",
       " 'skip': [25, 25, 25, 25, 25, 25, 25],\n",
       " 'traj_note': ['URRO_pH3_dens_pH46_amber_largerbox',\n",
       "  'URRO_pH3_dens_pH70_amber_largerbox',\n",
       "  'URRO_pH5_dens_pH46_amber_largerbox',\n",
       "  'URRO_pH5_dens_pH70_amber_largerbox',\n",
       "  'URRO_pH7_dens_pH46_amber_largerbox',\n",
       "  'URRO_pH7_dens_pH70_amber_largerbox',\n",
       "  '4NPQ_pH70_amber_largerbox']}"
      ]
     },
     "execution_count": 10,
     "metadata": {},
     "output_type": "execute_result"
    }
   ],
   "source": [
    "traj_note_dic"
   ]
  },
  {
   "cell_type": "code",
   "execution_count": null,
   "metadata": {},
   "outputs": [],
   "source": []
  },
  {
   "cell_type": "markdown",
   "metadata": {},
   "source": [
    "- create the directory in `save location`\n",
    "    - e.g. '/home/scottzhuang/pdc/URRO_pH3_dens_pH46_amber_largerbox/rep1'"
   ]
  },
  {
   "cell_type": "code",
   "execution_count": null,
   "metadata": {},
   "outputs": [],
   "source": [
    "for i in range(0,len(traj_note_dic['traj_note'])):\n",
    "    try:\n",
    "        os.mkdir(traj_note_dic['save_location'][i] + traj_note_dic['traj_note'][i])\n",
    "        for j in range(0,4):\n",
    "            os.mkdir(traj_note_dic['save_location'][i] + traj_note_dic['traj_note'][i] + '/rep' + str(j+1))\n",
    "    except:\n",
    "        print(traj_note_dic['traj_note'][i],'exists')"
   ]
  },
  {
   "cell_type": "code",
   "execution_count": null,
   "metadata": {},
   "outputs": [],
   "source": []
  },
  {
   "cell_type": "code",
   "execution_count": 19,
   "metadata": {},
   "outputs": [],
   "source": [
    "def pre_fixing(traj_note, save_location,load_location, rep_num, skip):\n",
    "    try:\n",
    "        tpr_file = load_location + 'rep' + str(rep_num) + '/md.tpr'\n",
    "        xtc_file = load_location + 'rep' + str(rep_num) + '/md.xtc'\n",
    "        output_file = save_location + traj_note + '/rep' + str(rep_num)\n",
    "        trjconv = Trjconv(s = tpr_file, f = xtc_file, dump = 10, o= output_file + '/md.system.gro',input = '0')\n",
    "        trjconv.run()\n",
    "        trjconv = Trjconv(s = tpr_file, f = xtc_file, dump = 10, o= output_file + '/md.protein.gro',input = '1')\n",
    "        trjconv.run()\n",
    "        trjconv = Trjconv(s = tpr_file, f = xtc_file, dump = 10, o= output_file + '/md.backbone.gro',input = '5')\n",
    "        trjconv.run()\n",
    "        trjconv = Trjconv(s = tpr_file, f = xtc_file, dump = 10, o= output_file + '/md.ca.gro',input = '3')\n",
    "        trjconv.run()\n",
    "        trjconv = Trjconv(s = tpr_file, f = xtc_file, dump = 10, o= output_file + '/md.system.pdb',input = '0')\n",
    "        trjconv.run()\n",
    "        trjconv = Trjconv(s = tpr_file, f = xtc_file, dump = 10, o= output_file + '/md.protein.pdb',input = '1')\n",
    "        trjconv.run()\n",
    "        trjconv = Trjconv(s = tpr_file, f = xtc_file, dump = 10, o= output_file + '/md.backbone.pdb',input = '5')\n",
    "        trjconv.run()\n",
    "        trjconv = Trjconv(s = tpr_file, f = xtc_file, dump = 10, o= output_file + '/md.ca.pdb',input = '3')\n",
    "        trjconv.run()\n",
    "\n",
    "        trjconv = Trjconv(s = tpr_file, f = xtc_file, skip = skip, o= output_file + '/skip.xtc',input = '0')\n",
    "        trjconv.run()\n",
    "        trjconv = Trjconv(s = tpr_file, f = output_file + '/skip.xtc', o= output_file + '/whole.xtc',input = '0', pbc = 'whole')\n",
    "        trjconv.run()\n",
    "        trjconv = Trjconv(s = tpr_file, f = output_file + '/whole.xtc', pbc = 'nojump', center = 'yes', o= output_file + '/nojump.xtc',input = ('3','0'))\n",
    "        trjconv.run()\n",
    "        trjconv = Trjconv(s = tpr_file, f = output_file + '/nojump.xtc', pbc = 'res', ur = 'rect', center = 'yes', o= output_file + '/center.xtc',input = ('3','0'))\n",
    "        trjconv.run()\n",
    "        trjconv = Trjconv(s = tpr_file, f = output_file + '/center.xtc', fit = 'rot+trans', o= output_file + '/rotrans.xtc',input = ('3','0'))\n",
    "        trjconv.run()\n",
    "        trjconv = Trjconv(s = tpr_file, f = output_file + '/rotrans.xtc', o= output_file + '/md.skip' + str(skip) + '.ca.xtc',input = '3')\n",
    "        trjconv.run()\n",
    "        trjconv = Trjconv(s = tpr_file, f = output_file + '/rotrans.xtc', o= output_file + '/md.skip' + str(skip) + '.system.xtc',input = '0')\n",
    "        trjconv.run()\n",
    "        trjconv = Trjconv(s = tpr_file, f = output_file + '/rotrans.xtc', o= output_file + '/md.skip' + str(skip) + '.protein.xtc',input = '1')\n",
    "        trjconv.run()\n",
    "        trjconv = Trjconv(s = tpr_file, f = output_file + '/rotrans.xtc', o= output_file + '/md.skip' + str(skip) + '.backbone.xtc',input = '5')\n",
    "        trjconv.run()\n",
    "        for f in glob.glob(output_file + '/center*'):\n",
    "            os.remove(f)\n",
    "        for f in glob.glob(output_file + '/rotrans*'):\n",
    "            os.remove(f)\n",
    "        for f in glob.glob(output_file + '/nojump*'):\n",
    "            os.remove(f)\n",
    "        for f in glob.glob(output_file + '/whole*'):\n",
    "            os.remove(f)\n",
    "        for f in glob.glob(output_file + '/skip*'):\n",
    "            os.remove(f)\n",
    "        for f in glob.glob(output_file + '/*skip5*'):\n",
    "            os.remove(f)\n",
    "        for f in glob.glob(output_file + '/#*'):\n",
    "            os.remove(f)\n",
    "        try:\n",
    "            os.mkdir(output_file + '/analysis/')\n",
    "        except:\n",
    "            print('')\n",
    "        try:\n",
    "            os.mkdir(output_file + '/hbond_analysis/')\n",
    "        except:\n",
    "            print('')\n",
    "        try:\n",
    "            os.mkdir(output_file + '/pore_analysis/')\n",
    "        except:\n",
    "            print('')\n",
    "    except:\n",
    "        print(load_location + ' not found.')"
   ]
  },
  {
   "cell_type": "code",
   "execution_count": 23,
   "metadata": {},
   "outputs": [
    {
     "data": {
      "text/plain": [
       "[None, None, None, None]"
      ]
     },
     "execution_count": 23,
     "metadata": {},
     "output_type": "execute_result"
    }
   ],
   "source": [
    "from joblib import Parallel, delayed\n",
    "import multiprocessing\n",
    "num_cores = multiprocessing.cpu_count()\n",
    "Parallel(n_jobs=num_cores)(delayed(pre_fixing)(traj_note = traj_note_dic['traj_note'][i//4], \n",
    "                                               save_location = traj_note_dic['save_location'][i//4], \n",
    "                                               load_location = traj_note_dic['load_location'][i//4],\n",
    "                                               skip = traj_note_dic['skip'][i//4], \n",
    "                                               rep_num = str(i%4 + 1))\n",
    "                          for i in range(0, len(traj_note_dic['traj_note']) * 4))"
   ]
  },
  {
   "cell_type": "code",
   "execution_count": null,
   "metadata": {},
   "outputs": [],
   "source": []
  },
  {
   "cell_type": "markdown",
   "metadata": {},
   "source": [
    "- append all replicates for one system together--for either visulization"
   ]
  },
  {
   "cell_type": "code",
   "execution_count": 79,
   "metadata": {},
   "outputs": [],
   "source": [
    "def append_replicates(traj_note,location,skip=default_skip,rep_num = default_rep):\n",
    "    if rep_num > 1:\n",
    "        output_file = location + traj_note + '/rep' + str(1) + '/' + 'md'\n",
    "        traj_ca = md.load(output_file + '.skip' + str(skip) + \".ca.xtc\",top = output_file + '.ca.pdb')\n",
    "        traj_protein = md.load(output_file + '.skip' + str(skip) + \".protein.xtc\",top = output_file + '.protein.pdb')\n",
    "        traj_system = md.load(output_file + '.skip' + str(skip) + \".system.xtc\",top = output_file + '.system.pdb')\n",
    "        for rep in range(2,rep_num + 1):\n",
    "            output_file = location + traj_note + '/rep' + str(rep) + '/' + 'md'\n",
    "            traj_ca = traj_ca.join(md.load(output_file + '.skip' + str(skip) + \".ca.xtc\",top = output_file + '.ca.pdb'))\n",
    "            traj_protein = traj_protein.join(md.load(output_file + '.skip' + str(skip) + \".protein.xtc\",top = output_file + '.protein.pdb'))\n",
    "            traj_system = traj_system.join(md.load(output_file + '.skip' + str(skip) + \".system.xtc\",top = output_file + '.system.pdb'))\n",
    "        traj_ca[0].save_pdb(location + traj_note + '/' + traj_note + '.ca.pdb')\n",
    "        traj_ca.save_xtc(location + traj_note + '/' + traj_note + '.ca.xtc')\n",
    "        traj_protein[0].save_pdb(location + traj_note + '/' + traj_note + '.protein.pdb')\n",
    "        traj_protein.save_xtc(location + traj_note + '/' + traj_note + '.protein.xtc')\n",
    "        traj_system[0].save_pdb(location + traj_note + '/' + traj_note + '.system.pdb')\n",
    "        traj_system.save_xtc(location + traj_note + '/' + traj_note + '.system.xtc')"
   ]
  },
  {
   "cell_type": "code",
   "execution_count": null,
   "metadata": {},
   "outputs": [],
   "source": [
    "for i in range(0,len(traj_note_dic['traj_note'])):\n",
    "    append_replicates(traj_note = traj_note_dic['traj_note'][i], location = traj_note_dic['save_location'][i], skip = traj_note_dic['skip'][i], rep_num = traj_note_dic['rep'][i])"
   ]
  },
  {
   "cell_type": "code",
   "execution_count": null,
   "metadata": {},
   "outputs": [],
   "source": []
  }
 ],
 "metadata": {
  "kernelspec": {
   "display_name": "deepchem",
   "language": "python",
   "name": "deepchem"
  },
  "language_info": {
   "codemirror_mode": {
    "name": "ipython",
    "version": 3
   },
   "file_extension": ".py",
   "mimetype": "text/x-python",
   "name": "python",
   "nbconvert_exporter": "python",
   "pygments_lexer": "ipython3",
   "version": "3.5.5"
  }
 },
 "nbformat": 4,
 "nbformat_minor": 4
}
