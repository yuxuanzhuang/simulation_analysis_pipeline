{
 "cells": [
  {
   "cell_type": "markdown",
   "metadata": {},
   "source": [
    "# Analysis"
   ]
  },
  {
   "cell_type": "markdown",
   "metadata": {},
   "source": [
    "Create a pandas DataFrame for saving metadata and analysis results"
   ]
  },
  {
   "cell_type": "code",
   "execution_count": 14,
   "metadata": {},
   "outputs": [],
   "source": [
    "import itertools"
   ]
  },
  {
   "cell_type": "code",
   "execution_count": 15,
   "metadata": {},
   "outputs": [
    {
     "name": "stderr",
     "output_type": "stream",
     "text": [
      "/home/scottzhuang/anaconda3/envs/deepchem/lib/python3.5/site-packages/seaborn/apionly.py:9: UserWarning: As seaborn no longer sets a default style on import, the seaborn.apionly module is deprecated. It will be removed in a future version.\n",
      "  warnings.warn(msg, UserWarning)\n",
      "/home/scottzhuang/anaconda3/envs/deepchem/lib/python3.5/site-packages/sklearn/cross_validation.py:41: DeprecationWarning: This module was deprecated in version 0.18 in favor of the model_selection module into which all the refactored classes and functions are moved. Also note that the interface of the new CV iterators are different from that of this module. This module will be removed in 0.20.\n",
      "  \"This module will be removed in 0.20.\", DeprecationWarning)\n",
      "/home/scottzhuang/anaconda3/envs/deepchem/lib/python3.5/site-packages/sklearn/grid_search.py:42: DeprecationWarning: This module was deprecated in version 0.18 in favor of the model_selection module into which all the refactored classes and functions are moved. This module will be removed in 0.20.\n",
      "  DeprecationWarning)\n"
     ]
    }
   ],
   "source": [
    "from __future__ import print_function\n",
    "import mdtraj as md\n",
    "import numpy as np\n",
    "import warnings\n",
    "import MDAnalysis as mda\n",
    "import itertools"
   ]
  },
  {
   "cell_type": "code",
   "execution_count": 18,
   "metadata": {},
   "outputs": [],
   "source": [
    "from joblib import Parallel, delayed\n",
    "import multiprocessing\n",
    "num_cores = multiprocessing.cpu_count()"
   ]
  },
  {
   "cell_type": "markdown",
   "metadata": {},
   "source": [
    "- TRAJ_NOTE format:\n",
    "\n",
    "A.B_C_...Z\n",
    "\n",
    "- A: strucuture name or PDB.\n",
    "- B: mutation\n",
    "- C: main ligand\n",
    "- Z: interesting variables\n",
    "\n",
    "e.g. \n",
    "- GABA_WT_PBT_POPC\n",
    "- 4HFI_F238L_ethanol_pH46"
   ]
  },
  {
   "cell_type": "code",
   "execution_count": 24,
   "metadata": {},
   "outputs": [],
   "source": [
    "traj_notes = ['URRO_pH3_dens_pH46_amber_largerbox', 'URRO_pH3_dens_pH70_amber_largerbox','URRO_pH5_dens_pH46_amber_largerbox','URRO_pH5_dens_pH70_amber_largerbox','URRO_pH7_dens_pH46_amber_largerbox','URRO_pH7_dens_pH70_amber_largerbox','4NPQ_pH70_amber_largerbox']\n",
    "default_load_location = '/home/scottzhuang/eriklab/'\n",
    "default_save_location = '/home/scottzhuang/pdc/'\n",
    "default_skip = 10\n",
    "default_rep = 4"
   ]
  },
  {
   "cell_type": "code",
   "execution_count": 25,
   "metadata": {},
   "outputs": [],
   "source": [
    "traj_note_dic = {'traj_note': traj_notes, \n",
    "                 'load_location': [\"\".join(i) for i in itertools.product([default_load_location], traj_notes,['/multijob_rigid/'])],\n",
    "                 'save_location':[default_save_location] * len(traj_notes), \n",
    "                 'skip':[default_skip] * len(traj_notes),\n",
    "                 'rep': [4] * len(traj_notes)}"
   ]
  },
  {
   "cell_type": "markdown",
   "metadata": {},
   "source": [
    "## Protein annnotations"
   ]
  },
  {
   "cell_type": "code",
   "execution_count": 8,
   "metadata": {},
   "outputs": [],
   "source": [
    "subunit_dic = {0:0,1:1,2:2,3:3,4:4,5:0,-1:4}"
   ]
  },
  {
   "cell_type": "code",
   "execution_count": 9,
   "metadata": {},
   "outputs": [],
   "source": [
    "subunit_dic_mda = {0:'A',1:'B',2:'C',3:'D',4:'E',5:'A'}"
   ]
  },
  {
   "cell_type": "code",
   "execution_count": 11,
   "metadata": {},
   "outputs": [],
   "source": [
    "subunit_type = {0:'WT',1:'WT',2:'WT',3:'WT',4:'WT',5:'WT'}"
   ]
  },
  {
   "cell_type": "code",
   "execution_count": null,
   "metadata": {},
   "outputs": [],
   "source": []
  },
  {
   "cell_type": "code",
   "execution_count": 12,
   "metadata": {},
   "outputs": [],
   "source": [
    "pore_annotation = {'-2': '(resid 222 and resname GLU)',\n",
    "                   '2': '(resid 226 and resname THR)',\n",
    "                   '6': '(resid 230 and resname SER)',\n",
    "                   '9':  '(resid 233 and resname ILE)',\n",
    "                   '13': '(resid 237 and resname ALA)',\n",
    "                   '16': '(resid 240 and resname ILE)',\n",
    "                   '20': '(resid 244 and resname THR)'}"
   ]
  },
  {
   "cell_type": "code",
   "execution_count": 13,
   "metadata": {},
   "outputs": [],
   "source": [
    "secondary_structure_annotation = {\n",
    "    'WT':{\n",
    "        'ECD': '(resSeq 10 to 192)',\n",
    "\n",
    "        'TMD': '(resSeq 193 to 315)'\n",
    "    }\n",
    "    }"
   ]
  },
  {
   "cell_type": "code",
   "execution_count": 14,
   "metadata": {},
   "outputs": [],
   "source": [
    "domain_structure_annotation = {\n",
    "    'WT':{\n",
    "        'M1': '(resSeq 193 to 218)',\n",
    "        'M2': '(resSeq 220 to 244)',\n",
    "        'M3': '(resSeq 256 to 283)',\n",
    "        'M4': '(resSeq 285 to 315)',\n",
    "        'loop_C': '(resSeq 162 to 190)',\n",
    "        'M2_M3_loop': '(resSeq 244 to 256)',\n",
    "    }\n",
    "}"
   ]
  },
  {
   "cell_type": "code",
   "execution_count": null,
   "metadata": {},
   "outputs": [],
   "source": []
  },
  {
   "cell_type": "markdown",
   "metadata": {},
   "source": [
    "## Create Dataframe and metadata"
   ]
  },
  {
   "cell_type": "code",
   "execution_count": 30,
   "metadata": {},
   "outputs": [],
   "source": [
    "def create_md_dataframe():    \n",
    "    return pd.DataFrame(columns=list(['MD_name', 'replicate', 'frame', 'traj_time', 'system', 'id', 'ligand', 'note']))"
   ]
  },
  {
   "cell_type": "code",
   "execution_count": 31,
   "metadata": {},
   "outputs": [],
   "source": [
    "md_data = create_md_dataframe()"
   ]
  },
  {
   "cell_type": "code",
   "execution_count": null,
   "metadata": {},
   "outputs": [],
   "source": []
  },
  {
   "cell_type": "code",
   "execution_count": 32,
   "metadata": {},
   "outputs": [],
   "source": [
    "def append_metadata(traj_note, rep, ident, system, location, skip = default_skip):\n",
    "        rep_data = []\n",
    "        traj_note_split = traj_note.split('_')\n",
    "        try:\n",
    "            top_location = traj_note + '/rep' + rep + '/' + \"md.ca.gro\"\n",
    "            traj_location = traj_note+ '/rep' + rep + '/' + 'md' + \".skip\" + str(skip) + \".ca.xtc\"\n",
    "            traj = md.load(location + traj_location,top= location + top_location)          \n",
    "            md_name = traj_note_split[0]\n",
    "            ligand = traj_note_split[1:-1] ##in another case\n",
    "            timestep = 5 ##in this case\n",
    "            note = traj_note.split('/')[-1]\n",
    "            for i in range(0,traj.n_frames):\n",
    "                rep_data.append([md_name, rep, i,  i * 0.2 * timestep * skip, system, ident,ligand,note])\n",
    "        except:\n",
    "            print(traj_note + ' not found.')\n",
    "        return rep_data\n",
    "    \n",
    "    \n",
    "meta_data = Parallel(n_jobs=num_cores)(delayed(append_metadata)(traj_note = traj_note_dic['traj_note'][i//4], \n",
    "                                                        rep = str(i%4 + 1),\n",
    "                                                        ident = i,\n",
    "                                                        system = i//4,\n",
    "                                                        location = traj_note_dic['save_location'][i//4],\n",
    "                                                       skip = traj_note_dic['skip'][i//4], \n",
    "                                               )\n",
    "                           for i in range(0,len(traj_note_dic['traj_note']) * 4))\n",
    "for i in range(0,len(traj_note_dic['traj_note']) * 4):\n",
    "    md_data = md_data.append(pd.DataFrame(meta_data[i],columns=list(['MD_name','replicate','frame','traj_time','system','id','ligand','note'])),ignore_index=True)\n",
    "md_data['frame'] =md_data['frame'].apply(int)\n",
    "md_data['traj_time'] =md_data['traj_time'].apply(float)\n",
    "md_data['replicate'] =md_data['replicate'].apply(int)\n",
    "md_data['system'] = md_data['system'].apply(int)"
   ]
  },
  {
   "cell_type": "code",
   "execution_count": 33,
   "metadata": {},
   "outputs": [
    {
     "data": {
      "text/html": [
       "<div>\n",
       "<style scoped>\n",
       "    .dataframe tbody tr th:only-of-type {\n",
       "        vertical-align: middle;\n",
       "    }\n",
       "\n",
       "    .dataframe tbody tr th {\n",
       "        vertical-align: top;\n",
       "    }\n",
       "\n",
       "    .dataframe thead th {\n",
       "        text-align: right;\n",
       "    }\n",
       "</style>\n",
       "<table border=\"1\" class=\"dataframe\">\n",
       "  <thead>\n",
       "    <tr style=\"text-align: right;\">\n",
       "      <th></th>\n",
       "      <th>MD_name</th>\n",
       "      <th>replicate</th>\n",
       "      <th>frame</th>\n",
       "      <th>traj_time</th>\n",
       "      <th>system</th>\n",
       "      <th>id</th>\n",
       "      <th>ligand</th>\n",
       "      <th>note</th>\n",
       "    </tr>\n",
       "  </thead>\n",
       "  <tbody>\n",
       "    <tr>\n",
       "      <th>0</th>\n",
       "      <td>URRO</td>\n",
       "      <td>1</td>\n",
       "      <td>0</td>\n",
       "      <td>0.0</td>\n",
       "      <td>0</td>\n",
       "      <td>0</td>\n",
       "      <td>[pH3, dens, pH46, amber]</td>\n",
       "      <td>URRO_pH3_dens_pH46_amber_largerbox</td>\n",
       "    </tr>\n",
       "    <tr>\n",
       "      <th>1</th>\n",
       "      <td>URRO</td>\n",
       "      <td>1</td>\n",
       "      <td>1</td>\n",
       "      <td>10.0</td>\n",
       "      <td>0</td>\n",
       "      <td>0</td>\n",
       "      <td>[pH3, dens, pH46, amber]</td>\n",
       "      <td>URRO_pH3_dens_pH46_amber_largerbox</td>\n",
       "    </tr>\n",
       "    <tr>\n",
       "      <th>2</th>\n",
       "      <td>URRO</td>\n",
       "      <td>1</td>\n",
       "      <td>2</td>\n",
       "      <td>20.0</td>\n",
       "      <td>0</td>\n",
       "      <td>0</td>\n",
       "      <td>[pH3, dens, pH46, amber]</td>\n",
       "      <td>URRO_pH3_dens_pH46_amber_largerbox</td>\n",
       "    </tr>\n",
       "    <tr>\n",
       "      <th>3</th>\n",
       "      <td>URRO</td>\n",
       "      <td>1</td>\n",
       "      <td>3</td>\n",
       "      <td>30.0</td>\n",
       "      <td>0</td>\n",
       "      <td>0</td>\n",
       "      <td>[pH3, dens, pH46, amber]</td>\n",
       "      <td>URRO_pH3_dens_pH46_amber_largerbox</td>\n",
       "    </tr>\n",
       "    <tr>\n",
       "      <th>4</th>\n",
       "      <td>URRO</td>\n",
       "      <td>1</td>\n",
       "      <td>4</td>\n",
       "      <td>40.0</td>\n",
       "      <td>0</td>\n",
       "      <td>0</td>\n",
       "      <td>[pH3, dens, pH46, amber]</td>\n",
       "      <td>URRO_pH3_dens_pH46_amber_largerbox</td>\n",
       "    </tr>\n",
       "  </tbody>\n",
       "</table>\n",
       "</div>"
      ],
      "text/plain": [
       "  MD_name  replicate  frame  traj_time  system id                    ligand  \\\n",
       "0    URRO          1      0        0.0       0  0  [pH3, dens, pH46, amber]   \n",
       "1    URRO          1      1       10.0       0  0  [pH3, dens, pH46, amber]   \n",
       "2    URRO          1      2       20.0       0  0  [pH3, dens, pH46, amber]   \n",
       "3    URRO          1      3       30.0       0  0  [pH3, dens, pH46, amber]   \n",
       "4    URRO          1      4       40.0       0  0  [pH3, dens, pH46, amber]   \n",
       "\n",
       "                                 note  \n",
       "0  URRO_pH3_dens_pH46_amber_largerbox  \n",
       "1  URRO_pH3_dens_pH46_amber_largerbox  \n",
       "2  URRO_pH3_dens_pH46_amber_largerbox  \n",
       "3  URRO_pH3_dens_pH46_amber_largerbox  \n",
       "4  URRO_pH3_dens_pH46_amber_largerbox  "
      ]
     },
     "execution_count": 33,
     "metadata": {},
     "output_type": "execute_result"
    }
   ],
   "source": [
    "md_data.head()"
   ]
  },
  {
   "cell_type": "code",
   "execution_count": null,
   "metadata": {},
   "outputs": [],
   "source": []
  },
  {
   "cell_type": "markdown",
   "metadata": {},
   "source": [
    "## RMSD"
   ]
  },
  {
   "cell_type": "code",
   "execution_count": 34,
   "metadata": {},
   "outputs": [],
   "source": [
    "def append_rmsd_data(traj_note, rep, location, skip = default_skip):\n",
    "    try:\n",
    "#        print(traj_note, rep, subunit, location, skip)\n",
    "        top_location = traj_note + '/rep' + rep + '/' + \"md.ca.pdb\"\n",
    "        traj_location = traj_note+ '/rep' + rep + '/' + 'md' + \".skip\" + str(skip) + \".ca.xtc\"\n",
    "        traj = md.load(location + traj_location,top= location + top_location)\n",
    "        rmsd = []\n",
    "        rmsd.append((md.rmsd(traj, traj)*10))\n",
    "        return (np.asarray(rmsd).transpose().ravel())\n",
    "    except:\n",
    "        print(traj_note + ' not found.')\n",
    "\n",
    "rmsd_data = Parallel(n_jobs=num_cores)(delayed(append_rmsd_data)(traj_note = traj_note_dic['traj_note'][i//4], \n",
    "                                                        rep = str(i%4 + 1),\n",
    "                                                        location = traj_note_dic['save_location'][i//4],\n",
    "                                                       skip = traj_note_dic['skip'][i//4], \n",
    "                                               )\n",
    "                           for i in range(0,len(traj_note_dic['traj_note']) * 4))\n",
    "\n",
    "md_data['rmsd'] = [x for x in np.hstack(rmsd_data) if x is not None]"
   ]
  },
  {
   "cell_type": "markdown",
   "metadata": {},
   "source": [
    "## Pore Hydration"
   ]
  },
  {
   "cell_type": "code",
   "execution_count": null,
   "metadata": {},
   "outputs": [],
   "source": [
    "def append_resid_hydration_data(traj_note,rep,resid_selection,location, skip=default_skip):\n",
    "    try:\n",
    "        hydration_data = []\n",
    "        top_location = traj_note + '/rep' + rep + '/' + 'md' + \".system.pdb\"\n",
    "        traj_location = traj_note+ '/rep' + rep + '/' + 'md' + \".skip\" + str(skip) + \".system.xtc\"\n",
    "        traj = mda.Universe(location + top_location,location + traj_location)\n",
    "        hydration = traj.select_atoms(\"(cyzone 9 2 -2 (\" + resid_selection + \"))  and resname SOL and name OW\",updating = True)\n",
    "        for i in range(0,traj.trajectory.n_frames):\n",
    "            traj.trajectory[i]\n",
    "            hydration_data.append(hydration.n_atoms)\n",
    "        return hydration_data\n",
    "    except:\n",
    "        print(traj_note + ' not found.')\n",
    "for resid in pore_annotation.keys():\n",
    "    resid_hydration_data = Parallel(n_jobs=num_cores)(delayed(append_resid_hydration_data)(traj_note = traj_note_dic['traj_note'][i//4], \n",
    "                                                            rep = str(i%4 + 1),\n",
    "                                                            resid_selection = pore_annotation[resid],\n",
    "                                                            location = traj_note_dic['save_location'][i//4],\n",
    "                                                           skip = traj_note_dic['skip'][i//4], \n",
    "                                                   )\n",
    "                               for i in range(0,len(traj_note_dic['traj_note']) * 4))\n",
    "\n",
    "    md_data['pore_hydration_resid_' + resid] = [x for x in np.hstack(resid_hydration_data) if x is not None]"
   ]
  },
  {
   "cell_type": "markdown",
   "metadata": {},
   "source": [
    "etc."
   ]
  },
  {
   "cell_type": "markdown",
   "metadata": {},
   "source": [
    "## Save results"
   ]
  },
  {
   "cell_type": "code",
   "execution_count": 54,
   "metadata": {},
   "outputs": [],
   "source": [
    "md_data.to_pickle('GLIC_analysis_results.pickle')"
   ]
  }
 ],
 "metadata": {
  "kernelspec": {
   "display_name": "deepchem",
   "language": "python",
   "name": "deepchem"
  },
  "language_info": {
   "codemirror_mode": {
    "name": "ipython",
    "version": 3
   },
   "file_extension": ".py",
   "mimetype": "text/x-python",
   "name": "python",
   "nbconvert_exporter": "python",
   "pygments_lexer": "ipython3",
   "version": "3.5.5"
  }
 },
 "nbformat": 4,
 "nbformat_minor": 4
}
